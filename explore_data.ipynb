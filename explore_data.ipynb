{
 "cells": [
  {
   "cell_type": "code",
   "execution_count": 1,
   "metadata": {},
   "outputs": [
    {
     "name": "stderr",
     "output_type": "stream",
     "text": [
      "Constructing train-set: 100%|██████████| 5000/5000 [00:00<00:00, 18970.91it/s]\n"
     ]
    }
   ],
   "source": [
    "from utils import interaction_matrix, recommend_top_k_popular\n",
    "from evaluate import  eval_mrr \n",
    "from load_data import load_all_data, split\n",
    "from recommenders import recommend_top_k_popular as baseline\n",
    "\n",
    "targets, users, interactions, items = load_all_data()\n",
    "interactions = interactions.iloc[:5_000]\n",
    "users = users.iloc[:max(interactions.user_id)]\n",
    "train, test = split(interactions, p=0.2)"
   ]
  },
  {
   "cell_type": "code",
   "execution_count": 2,
   "metadata": {},
   "outputs": [
    {
     "name": "stderr",
     "output_type": "stream",
     "text": [
      "Constructing matrix: 100%|██████████| 4467/4467 [00:00<00:00, 12057.84it/s]\n",
      "Constructing matrix: 100%|██████████| 533/533 [00:00<00:00, 12158.46it/s]\n"
     ]
    }
   ],
   "source": [
    "train_matrix = interaction_matrix(users, items, interactions=train)\n",
    "test_matrix = interaction_matrix(users, items, interactions=test)"
   ]
  },
  {
   "cell_type": "code",
   "execution_count": 3,
   "metadata": {},
   "outputs": [],
   "source": [
    "from sklearn.decomposition import TruncatedSVD"
   ]
  },
  {
   "cell_type": "code",
   "execution_count": 6,
   "metadata": {},
   "outputs": [],
   "source": [
    "x = TruncatedSVD(n_components=4).fit_transform(train_matrix)"
   ]
  },
  {
   "cell_type": "code",
   "execution_count": 8,
   "metadata": {},
   "outputs": [
    {
     "data": {
      "text/plain": "(391, 4)"
     },
     "execution_count": 8,
     "metadata": {},
     "output_type": "execute_result"
    }
   ],
   "source": [
    "x.shape"
   ]
  },
  {
   "cell_type": "code",
   "execution_count": 13,
   "metadata": {},
   "outputs": [
    {
     "data": {
      "text/plain": "391"
     },
     "execution_count": 13,
     "metadata": {},
     "output_type": "execute_result"
    }
   ],
   "source": [
    "len(x)"
   ]
  },
  {
   "cell_type": "code",
   "execution_count": null,
   "metadata": {},
   "outputs": [],
   "source": []
  }
 ],
 "metadata": {
  "kernelspec": {
   "display_name": "Python 3.8.5 64-bit ('base': conda)",
   "name": "python385jvsc74a57bd0bd0dfaf7d74176c2200e142d3b2c5a24cd96aab9f8a63d58655584c8ee349e43"
  },
  "language_info": {
   "name": "python",
   "version": ""
  },
  "orig_nbformat": 2
 },
 "nbformat": 4,
 "nbformat_minor": 2
}